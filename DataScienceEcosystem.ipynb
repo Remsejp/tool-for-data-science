{
 "cells": [
  {
   "cell_type": "markdown",
   "id": "1cda2826-2f40-4cff-97db-798ca8eae073",
   "metadata": {},
   "source": [
    "<h1>Data Science Tools and Ecosystem</h1>"
   ]
  },
  {
   "cell_type": "markdown",
   "id": "a1ec47c9-b32d-482a-8b4b-a2a24fa6514a",
   "metadata": {},
   "source": [
    "In this notebook, Data Science Tools and Ecosystem are summarized."
   ]
  },
  {
   "cell_type": "markdown",
   "id": "949c32e2-29e0-4cc6-bddd-1e807ea7391d",
   "metadata": {},
   "source": [
    "**Objectives:**\n",
    "\n",
    "- List popular languages for Data Science  \n",
    "- Identify common Data Science tools  \n",
    "- Write and execute arithmetic expressions in Python  \n",
    "- Convert units (e.g., minutes to hours) using Python  \n",
    "- Format text using Markdown in Jupyter Notebook  "
   ]
  },
  {
   "cell_type": "markdown",
   "id": "c4b9a624-3834-4f25-9be1-252ff2a0cc65",
   "metadata": {},
   "source": [
    "Some of the popular languages that Data Scientists use are:\n",
    "\n",
    "1. R\n",
    "2. Python\n",
    "3. SQL"
   ]
  },
  {
   "cell_type": "markdown",
   "id": "057a62d8-68a7-4cf5-82fe-3d3a7b58976e",
   "metadata": {},
   "source": [
    "Some of the commonly used libraries used by Data Scientists include:\n",
    "\n",
    "1. Numpy\n",
    "2. Pandas\n",
    "3. Scikit-learn"
   ]
  },
  {
   "cell_type": "markdown",
   "id": "3e175db4-7dd0-443e-b0d7-e4d7b7d7d5ac",
   "metadata": {},
   "source": [
    "| Data Science Tools |\n",
    "|--------------------|\n",
    "| Jupyter Notebook  |\n",
    "| RStudio           |\n",
    "| Apache Zeppelin   |\n"
   ]
  },
  {
   "cell_type": "markdown",
   "id": "25a94516-45b1-48c9-90ba-774cffee361b",
   "metadata": {},
   "source": [
    "### Below are a few examples of evaluating arithmetic expressions in Python.\n",
    "\n",
    "```python\n",
    "# Addition\n",
    "3 + 5  # Resultado: 8\n",
    "\n",
    "# Subtraction\n",
    "10 - 4  # Resultado: 6\n",
    "\n",
    "# Multiplication\n",
    "7 * 6  # Resultado: 42\n",
    "\n",
    "# Division\n",
    "20 / 4  # Resultado: 5.0\n",
    "\n",
    "# Exponentiation\n",
    "2 ** 3  # Resultado: 8\n",
    "\n",
    "# Modulus (remainder)\n",
    "17 % 3  # Resultado: 2\n"
   ]
  },
  {
   "cell_type": "code",
   "execution_count": 1,
   "id": "ee034112-3a7e-40dd-8aa4-3b2f7805a0be",
   "metadata": {},
   "outputs": [
    {
     "data": {
      "text/plain": [
       "17"
      ]
     },
     "execution_count": 1,
     "metadata": {},
     "output_type": "execute_result"
    }
   ],
   "source": [
    "# This is a simple arithmetic expression to multiply then add integers\n",
    "(3 * 4) + 5  # Expected output: 17\n"
   ]
  },
  {
   "cell_type": "code",
   "execution_count": 4,
   "id": "d442a62d-4d4b-452d-ac61-0f019ccc2f84",
   "metadata": {},
   "outputs": [
    {
     "name": "stdout",
     "output_type": "stream",
     "text": [
      "The conversion result is 3.33 hours\n"
     ]
    }
   ],
   "source": [
    "# This will convert 200 minutes to hours by dividing by 60\n",
    "\n",
    "minutes = 200\n",
    "\n",
    "conversion = 200/60 \n",
    "\n",
    "print(f\"The conversion result is {conversion:.2f} hours\")"
   ]
  },
  {
   "cell_type": "markdown",
   "id": "f7d8d004-fc72-4437-9354-92d4418394cb",
   "metadata": {},
   "source": [
    "## Author\n",
    "\n",
    "Remse Paternina"
   ]
  },
  {
   "cell_type": "code",
   "execution_count": null,
   "id": "73241879-fbf2-4bcf-8438-8c869986b3b6",
   "metadata": {},
   "outputs": [],
   "source": []
  }
 ],
 "metadata": {
  "kernelspec": {
   "display_name": "Python 3 (ipykernel)",
   "language": "python",
   "name": "python3"
  },
  "language_info": {
   "codemirror_mode": {
    "name": "ipython",
    "version": 3
   },
   "file_extension": ".py",
   "mimetype": "text/x-python",
   "name": "python",
   "nbconvert_exporter": "python",
   "pygments_lexer": "ipython3",
   "version": "3.12.8"
  }
 },
 "nbformat": 4,
 "nbformat_minor": 5
}
